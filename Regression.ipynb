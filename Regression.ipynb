{
 "cells": [
  {
   "cell_type": "code",
   "execution_count": 1,
   "metadata": {},
   "outputs": [
    {
     "name": "stderr",
     "output_type": "stream",
     "text": [
      "Using TensorFlow backend.\n",
      "/Users/hoangvo/opt/anaconda3/envs/deep-learning/lib/python3.7/site-packages/tensorflow/python/framework/dtypes.py:526: FutureWarning: Passing (type, 1) or '1type' as a synonym of type is deprecated; in a future version of numpy, it will be understood as (type, (1,)) / '(1,)type'.\n",
      "  _np_qint8 = np.dtype([(\"qint8\", np.int8, 1)])\n",
      "/Users/hoangvo/opt/anaconda3/envs/deep-learning/lib/python3.7/site-packages/tensorflow/python/framework/dtypes.py:527: FutureWarning: Passing (type, 1) or '1type' as a synonym of type is deprecated; in a future version of numpy, it will be understood as (type, (1,)) / '(1,)type'.\n",
      "  _np_quint8 = np.dtype([(\"quint8\", np.uint8, 1)])\n",
      "/Users/hoangvo/opt/anaconda3/envs/deep-learning/lib/python3.7/site-packages/tensorflow/python/framework/dtypes.py:528: FutureWarning: Passing (type, 1) or '1type' as a synonym of type is deprecated; in a future version of numpy, it will be understood as (type, (1,)) / '(1,)type'.\n",
      "  _np_qint16 = np.dtype([(\"qint16\", np.int16, 1)])\n",
      "/Users/hoangvo/opt/anaconda3/envs/deep-learning/lib/python3.7/site-packages/tensorflow/python/framework/dtypes.py:529: FutureWarning: Passing (type, 1) or '1type' as a synonym of type is deprecated; in a future version of numpy, it will be understood as (type, (1,)) / '(1,)type'.\n",
      "  _np_quint16 = np.dtype([(\"quint16\", np.uint16, 1)])\n",
      "/Users/hoangvo/opt/anaconda3/envs/deep-learning/lib/python3.7/site-packages/tensorflow/python/framework/dtypes.py:530: FutureWarning: Passing (type, 1) or '1type' as a synonym of type is deprecated; in a future version of numpy, it will be understood as (type, (1,)) / '(1,)type'.\n",
      "  _np_qint32 = np.dtype([(\"qint32\", np.int32, 1)])\n",
      "/Users/hoangvo/opt/anaconda3/envs/deep-learning/lib/python3.7/site-packages/tensorflow/python/framework/dtypes.py:535: FutureWarning: Passing (type, 1) or '1type' as a synonym of type is deprecated; in a future version of numpy, it will be understood as (type, (1,)) / '(1,)type'.\n",
      "  np_resource = np.dtype([(\"resource\", np.ubyte, 1)])\n"
     ]
    }
   ],
   "source": [
    "import numpy as np\n",
    "import matplotlib.pyplot as plt\n",
    "from keras.models import Sequential\n",
    "from keras.layers import Dense\n",
    "from keras.optimizers import Adam\n",
    "\n",
    "\n",
    "\n"
   ]
  },
  {
   "cell_type": "code",
   "execution_count": 2,
   "metadata": {},
   "outputs": [],
   "source": [
    "np.random.seed(0)\n",
    "points = 500\n",
    "X = np.linspace(-3, 3, points)\n",
    "y = np.sin(X) + np.random.uniform(-0.5, 0.5, points)\n",
    "\n",
    "\n"
   ]
  },
  {
   "cell_type": "code",
   "execution_count": 4,
   "metadata": {},
   "outputs": [
    {
     "data": {
      "text/plain": [
       "<matplotlib.collections.PathCollection at 0x7fe6cf56b6d0>"
      ]
     },
     "execution_count": 4,
     "metadata": {},
     "output_type": "execute_result"
    },
    {
     "data": {
      "image/png": "[encoded data removed]",
      "text/plain": [
       "<Figure size 432x288 with 1 Axes>"
      ]
     },
     "metadata": {
      "needs_background": "light"
     },
     "output_type": "display_data"
    }
   ],
   "source": [
    "plt.scatter(X,y)"
   ]
  },
  {
   "cell_type": "code",
   "execution_count": 5,
   "metadata": {},
   "outputs": [
    {
     "name": "stdout",
     "output_type": "stream",
     "text": [
      "WARNING:tensorflow:From /Users/hoangvo/opt/anaconda3/envs/deep-learning/lib/python3.7/site-packages/tensorflow/python/ops/resource_variable_ops.py:435: colocate_with (from tensorflow.python.framework.ops) is deprecated and will be removed in a future version.\n",
      "Instructions for updating:\n",
      "Colocations handled automatically by placer.\n"
     ]
    }
   ],
   "source": [
    "model = Sequential()\n",
    "model.add(Dense(50, activation='sigmoid', input_dim=1))\n",
    "model.add(Dense(30, activation='sigmoid'))\n",
    "model.add(Dense(1))"
   ]
  },
  {
   "cell_type": "code",
   "execution_count": null,
   "metadata": {},
   "outputs": [],
   "source": []
  },
  {
   "cell_type": "code",
   "execution_count": 6,
   "metadata": {},
   "outputs": [
    {
     "name": "stdout",
     "output_type": "stream",
     "text": [
      "WARNING:tensorflow:From /Users/hoangvo/opt/anaconda3/envs/deep-learning/lib/python3.7/site-packages/tensorflow/python/ops/math_ops.py:3066: to_int32 (from tensorflow.python.ops.math_ops) is deprecated and will be removed in a future version.\n",
      "Instructions for updating:\n",
      "Use tf.cast instead.\n",
      "Epoch 1/50\n",
      "500/500 [==============================] - 0s 266us/step - loss: 0.4560\n",
      "Epoch 2/50\n",
      "500/500 [==============================] - 0s 32us/step - loss: 0.2402\n",
      "Epoch 3/50\n",
      "500/500 [==============================] - 0s 34us/step - loss: 0.2620\n",
      "Epoch 4/50\n",
      "500/500 [==============================] - 0s 30us/step - loss: 0.2257\n",
      "Epoch 5/50\n",
      "500/500 [==============================] - 0s 31us/step - loss: 0.2283\n",
      "Epoch 6/50\n",
      "500/500 [==============================] - 0s 32us/step - loss: 0.2252\n",
      "Epoch 7/50\n",
      "500/500 [==============================] - 0s 39us/step - loss: 0.2179\n",
      "Epoch 8/50\n",
      "500/500 [==============================] - 0s 33us/step - loss: 0.2204\n",
      "Epoch 9/50\n",
      "500/500 [==============================] - 0s 32us/step - loss: 0.2047\n",
      "Epoch 10/50\n",
      "500/500 [==============================] - 0s 32us/step - loss: 0.1913\n",
      "Epoch 11/50\n",
      "500/500 [==============================] - 0s 33us/step - loss: 0.1914\n",
      "Epoch 12/50\n",
      "500/500 [==============================] - 0s 43us/step - loss: 0.1781\n",
      "Epoch 13/50\n",
      "500/500 [==============================] - 0s 55us/step - loss: 0.1688\n",
      "Epoch 14/50\n",
      "500/500 [==============================] - 0s 36us/step - loss: 0.1581\n",
      "Epoch 15/50\n",
      "500/500 [==============================] - 0s 37us/step - loss: 0.1557\n",
      "Epoch 16/50\n",
      "500/500 [==============================] - 0s 32us/step - loss: 0.1450\n",
      "Epoch 17/50\n",
      "500/500 [==============================] - 0s 32us/step - loss: 0.1386\n",
      "Epoch 18/50\n",
      "500/500 [==============================] - 0s 32us/step - loss: 0.1311\n",
      "Epoch 19/50\n",
      "500/500 [==============================] - 0s 31us/step - loss: 0.1222\n",
      "Epoch 20/50\n",
      "500/500 [==============================] - 0s 31us/step - loss: 0.1271\n",
      "Epoch 21/50\n",
      "500/500 [==============================] - 0s 32us/step - loss: 0.1179\n",
      "Epoch 22/50\n",
      "500/500 [==============================] - 0s 30us/step - loss: 0.1169\n",
      "Epoch 23/50\n",
      "500/500 [==============================] - 0s 31us/step - loss: 0.1184\n",
      "Epoch 24/50\n",
      "500/500 [==============================] - 0s 30us/step - loss: 0.1175\n",
      "Epoch 25/50\n",
      "500/500 [==============================] - 0s 32us/step - loss: 0.1113\n",
      "Epoch 26/50\n",
      "500/500 [==============================] - 0s 34us/step - loss: 0.1081\n",
      "Epoch 27/50\n",
      "500/500 [==============================] - 0s 37us/step - loss: 0.1111\n",
      "Epoch 28/50\n",
      "500/500 [==============================] - 0s 35us/step - loss: 0.1244\n",
      "Epoch 29/50\n",
      "500/500 [==============================] - 0s 32us/step - loss: 0.1239\n",
      "Epoch 30/50\n",
      "500/500 [==============================] - 0s 35us/step - loss: 0.1129\n",
      "Epoch 31/50\n",
      "500/500 [==============================] - 0s 36us/step - loss: 0.1079\n",
      "Epoch 32/50\n",
      "500/500 [==============================] - 0s 34us/step - loss: 0.1143\n",
      "Epoch 33/50\n",
      "500/500 [==============================] - 0s 34us/step - loss: 0.1080\n",
      "Epoch 34/50\n",
      "500/500 [==============================] - 0s 31us/step - loss: 0.1112\n",
      "Epoch 35/50\n",
      "500/500 [==============================] - 0s 38us/step - loss: 0.1047\n",
      "Epoch 36/50\n",
      "500/500 [==============================] - 0s 32us/step - loss: 0.1088\n",
      "Epoch 37/50\n",
      "500/500 [==============================] - 0s 33us/step - loss: 0.1069\n",
      "Epoch 38/50\n",
      "500/500 [==============================] - 0s 34us/step - loss: 0.1057\n",
      "Epoch 39/50\n",
      "500/500 [==============================] - 0s 34us/step - loss: 0.1052\n",
      "Epoch 40/50\n",
      "500/500 [==============================] - 0s 33us/step - loss: 0.1048\n",
      "Epoch 41/50\n",
      "500/500 [==============================] - 0s 34us/step - loss: 0.1152\n",
      "Epoch 42/50\n",
      "500/500 [==============================] - 0s 33us/step - loss: 0.1032\n",
      "Epoch 43/50\n",
      "500/500 [==============================] - 0s 35us/step - loss: 0.1035\n",
      "Epoch 44/50\n",
      "500/500 [==============================] - 0s 36us/step - loss: 0.1060\n",
      "Epoch 45/50\n",
      "500/500 [==============================] - 0s 32us/step - loss: 0.1021\n",
      "Epoch 46/50\n",
      "500/500 [==============================] - 0s 35us/step - loss: 0.1019\n",
      "Epoch 47/50\n",
      "500/500 [==============================] - 0s 32us/step - loss: 0.1124\n",
      "Epoch 48/50\n",
      "500/500 [==============================] - 0s 34us/step - loss: 0.1088\n",
      "Epoch 49/50\n",
      "500/500 [==============================] - 0s 36us/step - loss: 0.1042\n",
      "Epoch 50/50\n",
      "500/500 [==============================] - 0s 31us/step - loss: 0.1079\n"
     ]
    },
    {
     "data": {
      "image/png": "[encoded data removed]",
      "text/plain": [
       "<Figure size 432x288 with 1 Axes>"
      ]
     },
     "metadata": {
      "needs_background": "light"
     },
     "output_type": "display_data"
    }
   ],
   "source": [
    "\n",
    "adam = Adam(lr=0.01)\n",
    "model.compile(loss='mse', optimizer=adam)\n",
    "model.fit(X, y, epochs=50)\n",
    "predictions = model.predict(X)\n",
    "plt.scatter(X, y)\n",
    "plt.plot(X, predictions, 'ro')\n",
    "plt.show()"
   ]
  },
  {
   "cell_type": "code",
   "execution_count": null,
   "metadata": {},
   "outputs": [],
   "source": []
  }
 ],
 "metadata": {
  "kernelspec": {
   "display_name": "Python 3",
   "language": "python",
   "name": "python3"
  },
  "language_info": {
   "codemirror_mode": {
    "name": "ipython",
    "version": 3
   },
   "file_extension": ".py",
   "mimetype": "text/x-python",
   "name": "python",
   "nbconvert_exporter": "python",
   "pygments_lexer": "ipython3",
   "version": "3.7.6"
  }
 },
 "nbformat": 4,
 "nbformat_minor": 4
}
