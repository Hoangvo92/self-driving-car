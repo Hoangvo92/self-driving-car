{
 "cells": [
  {
   "cell_type": "code",
   "execution_count": 1,
   "metadata": {},
   "outputs": [
    {
     "name": "stderr",
     "output_type": "stream",
     "text": [
      "Using TensorFlow backend.\n",
      "/Users/hoangvo/opt/anaconda3/envs/deep-learning/lib/python3.7/site-packages/tensorflow/python/framework/dtypes.py:526: FutureWarning: Passing (type, 1) or '1type' as a synonym of type is deprecated; in a future version of numpy, it will be understood as (type, (1,)) / '(1,)type'.\n",
      "  _np_qint8 = np.dtype([(\"qint8\", np.int8, 1)])\n",
      "/Users/hoangvo/opt/anaconda3/envs/deep-learning/lib/python3.7/site-packages/tensorflow/python/framework/dtypes.py:527: FutureWarning: Passing (type, 1) or '1type' as a synonym of type is deprecated; in a future version of numpy, it will be understood as (type, (1,)) / '(1,)type'.\n",
      "  _np_quint8 = np.dtype([(\"quint8\", np.uint8, 1)])\n",
      "/Users/hoangvo/opt/anaconda3/envs/deep-learning/lib/python3.7/site-packages/tensorflow/python/framework/dtypes.py:528: FutureWarning: Passing (type, 1) or '1type' as a synonym of type is deprecated; in a future version of numpy, it will be understood as (type, (1,)) / '(1,)type'.\n",
      "  _np_qint16 = np.dtype([(\"qint16\", np.int16, 1)])\n",
      "/Users/hoangvo/opt/anaconda3/envs/deep-learning/lib/python3.7/site-packages/tensorflow/python/framework/dtypes.py:529: FutureWarning: Passing (type, 1) or '1type' as a synonym of type is deprecated; in a future version of numpy, it will be understood as (type, (1,)) / '(1,)type'.\n",
      "  _np_quint16 = np.dtype([(\"quint16\", np.uint16, 1)])\n",
      "/Users/hoangvo/opt/anaconda3/envs/deep-learning/lib/python3.7/site-packages/tensorflow/python/framework/dtypes.py:530: FutureWarning: Passing (type, 1) or '1type' as a synonym of type is deprecated; in a future version of numpy, it will be understood as (type, (1,)) / '(1,)type'.\n",
      "  _np_qint32 = np.dtype([(\"qint32\", np.int32, 1)])\n",
      "/Users/hoangvo/opt/anaconda3/envs/deep-learning/lib/python3.7/site-packages/tensorflow/python/framework/dtypes.py:535: FutureWarning: Passing (type, 1) or '1type' as a synonym of type is deprecated; in a future version of numpy, it will be understood as (type, (1,)) / '(1,)type'.\n",
      "  np_resource = np.dtype([(\"resource\", np.ubyte, 1)])\n"
     ]
    }
   ],
   "source": [
    "import socketio\n",
    "import eventlet\n",
    "import numpy as np\n",
    "from flask import Flask\n",
    "from keras.models import load_model\n",
    "import base64\n",
    "from io import BytesIO\n",
    "from PIL import Image\n",
    "import cv2\n",
    "\n",
    "\n",
    "\n",
    "\n",
    "\n"
   ]
  },
  {
   "cell_type": "code",
   "execution_count": null,
   "metadata": {},
   "outputs": [],
   "source": []
  },
  {
   "cell_type": "code",
   "execution_count": null,
   "metadata": {},
   "outputs": [],
   "source": []
  },
  {
   "cell_type": "code",
   "execution_count": 2,
   "metadata": {},
   "outputs": [],
   "source": [
    "#use socket server to create communiation\n",
    "sio = socketio.Server()\n",
    "\n",
    "app = Flask(__name__) #'__main__'\n",
    "speed_limit = 10\n",
    "def img_preprocess(img):\n",
    "    img = img[60:135,:,:]\n",
    "    img = cv2.cvtColor(img, cv2.COLOR_RGB2YUV)\n",
    "    img = cv2.GaussianBlur(img,  (3, 3), 0)\n",
    "    img = cv2.resize(img, (200, 66))\n",
    "    img = img/255\n",
    "    return img\n",
    "\n"
   ]
  },
  {
   "cell_type": "code",
   "execution_count": 3,
   "metadata": {},
   "outputs": [],
   "source": [
    "@sio.on('telemetry')\n",
    "def telemetry(sid, data):\n",
    "    speed = float(data['speed'])\n",
    "    image = Image.open(BytesIO(base64.b64decode(data['image'])))\n",
    "    image = np.asarray(image)\n",
    "    image = img_preprocess(image)\n",
    "    image = np.array([image])\n",
    "    steering_angle = float(model.predict(image))\n",
    "    throttle = 1.0 - speed/speed_limit\n",
    "    print('{} {} {}'.format(steering_angle, throttle, speed))\n",
    "    send_control(steering_angle, throttle)\n",
    "\n",
    "\n"
   ]
  },
  {
   "cell_type": "code",
   "execution_count": 4,
   "metadata": {},
   "outputs": [],
   "source": [
    "#from package eventlet\n",
    "@sio.on('connect') #message, connect\n",
    "def connect(sid, environ):\n",
    "    print('Connected')\n",
    "    send_control(0, 0)\n",
    "\n",
    "def send_control(steering_angle, throttle):\n",
    "    sio.emit('steer', data = {\n",
    "        'steering_angle': steering_angle.__str__(),\n",
    "        'throttle': throttle.__str__()\n",
    "    })"
   ]
  },
  {
   "cell_type": "code",
   "execution_count": null,
   "metadata": {},
   "outputs": [
    {
     "name": "stdout",
     "output_type": "stream",
     "text": [
      "WARNING:tensorflow:From /Users/hoangvo/opt/anaconda3/envs/deep-learning/lib/python3.7/site-packages/tensorflow/python/ops/resource_variable_ops.py:435: colocate_with (from tensorflow.python.framework.ops) is deprecated and will be removed in a future version.\n",
      "Instructions for updating:\n",
      "Colocations handled automatically by placer.\n",
      "WARNING:tensorflow:From /Users/hoangvo/opt/anaconda3/envs/deep-learning/lib/python3.7/site-packages/tensorflow/python/ops/math_ops.py:3066: to_int32 (from tensorflow.python.ops.math_ops) is deprecated and will be removed in a future version.\n",
      "Instructions for updating:\n",
      "Use tf.cast instead.\n"
     ]
    },
    {
     "name": "stderr",
     "output_type": "stream",
     "text": [
      "(8799) wsgi starting up on http://0.0.0.0:4567\n",
      "(8799) accepted ('127.0.0.1', 62624)\n",
      "(8799) accepted ('127.0.0.1', 62625)\n",
      "127.0.0.1 - - [11/Jul/2020 12:07:06] \"GET / HTTP/1.1\" 404 380 0.000458\n",
      "(8799) accepted ('127.0.0.1', 62626)\n",
      "127.0.0.1 - - [11/Jul/2020 12:07:06] \"GET /favicon.ico HTTP/1.1\" 404 380 0.000759\n",
      "127.0.0.1 - - [11/Jul/2020 12:07:21] \"GET / HTTP/1.1\" 404 380 0.000436\n",
      "127.0.0.1 - - [11/Jul/2020 12:07:22] \"GET / HTTP/1.1\" 404 380 0.000356\n"
     ]
    }
   ],
   "source": [
    "\n",
    "model = load_model('model.h5')\n",
    "app = socketio.Middleware(sio, app) #from socketio package\n",
    "eventlet.wsgi.server(eventlet.listen(('', 4567)), app)\n",
    "\n",
    "\n"
   ]
  },
  {
   "cell_type": "code",
   "execution_count": null,
   "metadata": {},
   "outputs": [],
   "source": [
    "!python Drive.py"
   ]
  },
  {
   "cell_type": "code",
   "execution_count": null,
   "metadata": {},
   "outputs": [],
   "source": []
  }
 ],
 "metadata": {
  "kernelspec": {
   "display_name": "Python 3",
   "language": "python",
   "name": "python3"
  },
  "language_info": {
   "codemirror_mode": {
    "name": "ipython",
    "version": 3
   },
   "file_extension": ".py",
   "mimetype": "text/x-python",
   "name": "python",
   "nbconvert_exporter": "python",
   "pygments_lexer": "ipython3",
   "version": "3.7.6"
  }
 },
 "nbformat": 4,
 "nbformat_minor": 4
}
